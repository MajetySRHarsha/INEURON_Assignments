{
 "cells": [
  {
   "cell_type": "markdown",
   "id": "8b95ff09",
   "metadata": {},
   "source": [
    "1. In the below elements which of them are values or an expression? eg:- values can be integer or string and expressions will be mathematical operators.\n",
    "Expression-* \n",
    "Value-'hello'\n",
    "Value--87.8\n",
    "Expression - \n",
    "Expression / \n",
    "Expression +\t\n",
    "Value 6 \n"
   ]
  },
  {
   "cell_type": "markdown",
   "id": "b5d6f84e",
   "metadata": {},
   "source": [
    "2. What is the difference between string and variable?\n",
    "String:\n",
    "A string is a sequence of one or more characters (letters, numbers, symbols) that can be either a constant or a variable. Made up of Unicode, strings are immutable sequences, meaning they are unchanging.\n",
    "Because text is such a common form of data that we use in everyday life, the string data type is a very important building block of programming.\n",
    "Variable:\n",
    "Python Variable is containers which store values. Python is not “statically typed”. We do not need to declare variables before using them or declare their type. A variable is created the moment we first assign a value to it. A Python variable is a name given to a memory location. It is the basic unit of storage in a program.\n"
   ]
  },
  {
   "cell_type": "markdown",
   "id": "8b2f2bad",
   "metadata": {},
   "source": [
    "3. Describe three different data types.\n",
    "Numeric:\n",
    "In Python, numeric data type represent the data which has numeric value. \n",
    "Numeric value can be integer, floating number or even complex numbers. \n",
    "These values are defined as int, float and complex class in Python.\n",
    "1.Integers – This value is represented by int class. It contains positive or negative whole numbers \n",
    "(without fraction or decimal). In Python there is no limit to how long an integer value can be.\n",
    "2.Float – This value is represented by float class. It is a real number with floating point representation.\n",
    "It is specified by a decimal point. Optionally, the character e or E followed by a positive or \n",
    "negative integer may be appended to specify scientific notation.\n",
    "3.Complex Numbers – Complex number is represented by complex class. \n",
    "It is specified as (real part) + (imaginary part)j. For example – 2+3j\n",
    "\n",
    "Sequence Type:\n",
    "In Python, sequence is the ordered collection of similar or different data types. Sequences allows\n",
    "to store multiple values in an organized and efficient fashion. There are several sequence types in \n",
    "Python –\n",
    "\n",
    "String-\n",
    "In Python, Strings are arrays of bytes representing Unicode characters.\n",
    "A string is a collection of one or more characters put in a single quote, double-quote or triple quote.\n",
    "In python there is no character data type, a character is a string of length one. It is represented by str\n",
    "class.\n",
    "List-\n",
    "Lists are just like the arrays, declared in other languages which is a ordered collection of data. \n",
    "It is very flexible as the items in a list do not need to be of the same type.\n",
    "Tuple-Just like list, tuple is also an ordered collection of Python objects.\n",
    "The only difference between tuple and list is that tuples are immutable i.e. \n",
    "tuples cannot be modified after it is created. It is represented by tuple class.\n",
    "\n",
    "Boolean:\n",
    "Data type with one of the two built-in values, True or False. Boolean objects that are equal to True are truthy (true), and those equal to False are falsy (false). But non-Boolean objects can be evaluated in Boolean context as well and determined to be true or false. It is denoted by the class bool.\n",
    "\n",
    "Note – True and False with capital ‘T’ and ‘F’ are valid booleans otherwise python will throw an error."
   ]
  },
  {
   "cell_type": "markdown",
   "id": "c3f887f3",
   "metadata": {},
   "source": [
    "4. What is an expression made up of? What do all expressions do?\n",
    "An expression is a combination of operators and operands that is interpreted to produce some other value. In any programming language, an expression is evaluated as per the precedence of its operators. So that if there is more than one operator in an expression, their precedence decides which operation will be performed first."
   ]
  },
  {
   "cell_type": "markdown",
   "id": "8c09792d",
   "metadata": {},
   "source": [
    "5. This assignment statements, like spam = 10. What is the difference between an expression and a statement?\n",
    "An expression evaluates to a single value. A statement does not.\n"
   ]
  },
  {
   "cell_type": "markdown",
   "id": "a7c37572",
   "metadata": {},
   "source": [
    "6.What does the variable bacon contain after the following code runs?\n",
    "\n",
    "bacon = 20\n",
    "bacon + 1\n",
    "The bacon variable is set to 20. The bacon + 1 expression does not reassign the value in bacon (that would need an assignment statement: bacon = bacon + 1)"
   ]
  },
  {
   "cell_type": "markdown",
   "id": "6e7e99f9",
   "metadata": {},
   "source": [
    "7. What should the values of the following two terms be?\n",
    "'spam' + 'spamspam'\n",
    "'spam' * 3\n",
    "Both expressions evaluate to the string 'spamspamspam'"
   ]
  },
  {
   "cell_type": "markdown",
   "id": "70237cab",
   "metadata": {},
   "source": [
    "8.Why is eggs a valid variable name while 100 is invalid?\n",
    "Variable names cannot begin with a number."
   ]
  },
  {
   "cell_type": "markdown",
   "id": "df0efc02",
   "metadata": {},
   "source": [
    "9.What three functions can be used to get the integer, floating-point number, or string version of a value?\n",
    "The int(), float(), and str() functions will evaluate to the integer, floating-point number, and string versions of the value passed to them."
   ]
  },
  {
   "cell_type": "markdown",
   "id": "0377adbe",
   "metadata": {},
   "source": [
    "10.Why does this expression cause an error? How can you fix it?\n",
    "'I have eaten ' + 99 + ' burritos.'\n",
    "The expression causes an error because 99 is an integer, and only strings can be concatenated to other strings with the + operator. The correct way is I have eaten ' + str(99) + ' burritos.'."
   ]
  }
 ],
 "metadata": {
  "kernelspec": {
   "display_name": "Python 3 (ipykernel)",
   "language": "python",
   "name": "python3"
  },
  "language_info": {
   "codemirror_mode": {
    "name": "ipython",
    "version": 3
   },
   "file_extension": ".py",
   "mimetype": "text/x-python",
   "name": "python",
   "nbconvert_exporter": "python",
   "pygments_lexer": "ipython3",
   "version": "3.9.13"
  }
 },
 "nbformat": 4,
 "nbformat_minor": 5
}
