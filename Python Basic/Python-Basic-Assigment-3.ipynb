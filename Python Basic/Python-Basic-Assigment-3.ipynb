{
 "cells": [
  {
   "cell_type": "markdown",
   "id": "ec390c5e",
   "metadata": {},
   "source": [
    "1. Why are functions advantageous to have in your programs?\n",
    "Ans. Functions reduce the need for duplicate code. This makes programs shorter, easier to read, and easier to update."
   ]
  },
  {
   "cell_type": "markdown",
   "id": "f91a3bac",
   "metadata": {},
   "source": [
    "2. When does the code in a function run: when it's specified or when it's called?\n",
    "Ans. When it's called."
   ]
  },
  {
   "cell_type": "markdown",
   "id": "a4302ec6",
   "metadata": {},
   "source": [
    "3. What statement creates a function?\n",
    "Ans. Keyword def followed by function name creates a function\n",
    "def functionname():\n",
    "     body"
   ]
  },
  {
   "cell_type": "markdown",
   "id": "36be0adb",
   "metadata": {},
   "source": [
    "4. What is the difference between a function and a function call?\n",
    "Ans. A function consists of the def statement and the code in its def clause.\n",
    "\n",
    "A function call is what moves the program execution into the function, and the function call evaluates to the function's return value."
   ]
  },
  {
   "cell_type": "markdown",
   "id": "69353979",
   "metadata": {},
   "source": [
    "5. How many global scopes are there in a Python program? How many local scopes?\n",
    "Ans. There is one global scope, and a local scope is created whenever a function is called."
   ]
  },
  {
   "cell_type": "markdown",
   "id": "ffd2835d",
   "metadata": {},
   "source": [
    "6. What happens to variables in a local scope when the function call returns?\n",
    "Ans. When a function returns, the local scope is destroyed, and all the variables in it are forgotten"
   ]
  },
  {
   "cell_type": "markdown",
   "id": "16ae9ff9",
   "metadata": {},
   "source": [
    "7.What is the concept of a return value? Is it possible to have a return value in an expression?\n",
    "Ans. A return value is the value that a function call evaluates to. Like any value, a return value can be used as part of an expression."
   ]
  },
  {
   "cell_type": "markdown",
   "id": "f4ca6342",
   "metadata": {},
   "source": [
    "8. If a function does not have a return statement, what is the return value of a call to that function?\n",
    "Ans. None is the return value if the return value is not specified"
   ]
  },
  {
   "cell_type": "markdown",
   "id": "65a0496d",
   "metadata": {},
   "source": [
    "9. How do you make a function variable refer to the global variable?\n",
    "Ans. A global statement will force a variable in a function to refer to the global variable."
   ]
  },
  {
   "cell_type": "markdown",
   "id": "5dddda00",
   "metadata": {},
   "source": [
    "10. What is the data type of None?\n",
    "Ans. The data type of None is NoneType."
   ]
  },
  {
   "cell_type": "markdown",
   "id": "37bce8a5",
   "metadata": {},
   "source": [
    "11. What does the sentence import areallyourpetsnamederic do?\n",
    "Ans. From the above statement we are trying to import the package named areallyourpetsnamederic by executing the above statement we will be able to use all the methods that are available in the package."
   ]
  },
  {
   "cell_type": "markdown",
   "id": "b2f7b3fb",
   "metadata": {},
   "source": [
    "12. If you had a bacon() feature in a spam module, what would you call it after importing spam?\n",
    "import spam as s\n",
    "s.bacon()#This calls the bacon() feature from the spam module "
   ]
  },
  {
   "cell_type": "markdown",
   "id": "d8e0b417",
   "metadata": {},
   "source": [
    "13. What can you do to save a programme from crashing if it encounters an error?\n",
    "Ans. We can use exception handling by trying to place our code in between the try and except blocks."
   ]
  },
  {
   "cell_type": "markdown",
   "id": "a33bdd50",
   "metadata": {},
   "source": [
    "14. What is the purpose of the try clause? What is the purpose of the except clause?\n",
    "-The code that could potentially cause an error goes in the try clause.\n",
    "-The code that executes if an error happens goes in the except clause."
   ]
  }
 ],
 "metadata": {
  "kernelspec": {
   "display_name": "Python 3 (ipykernel)",
   "language": "python",
   "name": "python3"
  },
  "language_info": {
   "codemirror_mode": {
    "name": "ipython",
    "version": 3
   },
   "file_extension": ".py",
   "mimetype": "text/x-python",
   "name": "python",
   "nbconvert_exporter": "python",
   "pygments_lexer": "ipython3",
   "version": "3.9.13"
  }
 },
 "nbformat": 4,
 "nbformat_minor": 5
}
