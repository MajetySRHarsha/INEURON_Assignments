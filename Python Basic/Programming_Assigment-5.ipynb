{
 "cells": [
  {
   "cell_type": "code",
   "execution_count": 28,
   "id": "3ac667e7",
   "metadata": {},
   "outputs": [
    {
     "name": "stdout",
     "output_type": "stream",
     "text": [
      "Enter first number:5\n",
      "Enter second number:10\n",
      "LCM of 5 and 10:10\n"
     ]
    }
   ],
   "source": [
    "#1.\tWrite a Python Program to Find LCM?.\n",
    "'''to find HCF'''\n",
    "def hcf(a,b):\n",
    "    j=0\n",
    "    if(a<b):\n",
    "        pass\n",
    "    else:\n",
    "        a,b=b,a\n",
    "    for i in range(a,1,-1):\n",
    "        if(a%i==0 and b%i==0):\n",
    "            j+=1\n",
    "            return i\n",
    "    if j==0:\n",
    "        return 1\n",
    "a,b=int(input('Enter first number:')),int(input('Enter second number:'))\n",
    "print('LCM of {} and {}:{}'.format(a,b,(a*b)//hcf(a,b)))\n"
   ]
  },
  {
   "cell_type": "code",
   "execution_count": 29,
   "id": "6b6e18f4",
   "metadata": {},
   "outputs": [
    {
     "name": "stdout",
     "output_type": "stream",
     "text": [
      "Enter first number:5\n",
      "Enter second number:7\n",
      "HCF of 5 and 7 :1\n"
     ]
    }
   ],
   "source": [
    "#2.\tWrite a Python Program to Find HCF?.\n",
    "'''to find HCF'''\n",
    "a,b=int(input('Enter first number:')),int(input('Enter second number:'))\n",
    "j=0\n",
    "if(a<b):\n",
    "    pass\n",
    "else:\n",
    "    a,b=b,a\n",
    "for i in range(a,1,-1):\n",
    "    if(a%i==0 and b%i==0):\n",
    "        j+=1\n",
    "        print('HCF of {} and {} :{}'.format(a,b,i))\n",
    "if j==0:\n",
    "    print('HCF of {} and {} :{}'.format(a,b,1))"
   ]
  },
  {
   "cell_type": "code",
   "execution_count": 31,
   "id": "53131c51",
   "metadata": {},
   "outputs": [
    {
     "name": "stdout",
     "output_type": "stream",
     "text": [
      "Enter decimal number:10\n",
      "Binary equivalent of 10:0b1010\n",
      "Octal equivalent of 10:0o12\n",
      "Hexadecimal equivalent of 10:0xa\n"
     ]
    }
   ],
   "source": [
    "#3.\tWrite a Python Program to Convert Decimal to Binary, Octal and Hexadecimal?\n",
    "num=int(input('Enter decimal number:'))\n",
    "print('Binary equivalent of {}:{}'.format(num,bin(num)))\n",
    "print('Octal equivalent of {}:{}'.format(num,oct(num)))\n",
    "print('Hexadecimal equivalent of {}:{}'.format(num,hex(num)))\n"
   ]
  },
  {
   "cell_type": "code",
   "execution_count": 36,
   "id": "68b92cc7",
   "metadata": {},
   "outputs": [
    {
     "name": "stdout",
     "output_type": "stream",
     "text": [
      "Enter the character:A\n",
      "Ascii equivalent of A:65\n"
     ]
    }
   ],
   "source": [
    "#4.\tWrite a Python Program To Find ASCII value of a character?\n",
    "a=input('Enter the character:')\n",
    "print(\"Ascii equivalent of {}:{}\".format(a,ord(a)))"
   ]
  },
  {
   "cell_type": "code",
   "execution_count": 41,
   "id": "88451d5f",
   "metadata": {},
   "outputs": [
    {
     "name": "stdout",
     "output_type": "stream",
     "text": [
      "1.Addition\n",
      "2.Subtraction\n",
      "3.Multiplication\n",
      "4.Division\n",
      "5.Exit\n",
      "Enter your choice:1\n",
      "Enter first number:10\n",
      "Enter second number:20\n",
      "Addition of 10 and 20:30\n",
      "1.Addition\n",
      "2.Subtraction\n",
      "3.Multiplication\n",
      "4.Division\n",
      "5.Exit\n",
      "Enter your choice:5\n"
     ]
    }
   ],
   "source": [
    "#5.\tWrite a Python Program to Make a Simple Calculator with 4 basic mathematical operations?\n",
    "def add(a,b):\n",
    "    return a+b\n",
    "def sub(a,b):\n",
    "    return a-b\n",
    "def mul(a,b):\n",
    "    return a*b\n",
    "def div(a,b):\n",
    "    return a/b\n",
    "op=['1.Addition','2.Subtraction','3.Multiplication','4.Division','5.Exit']\n",
    "choice=0\n",
    "while(choice!=5):\n",
    "    for i in op:\n",
    "        print(i)\n",
    "    choice=int(input('Enter your choice:'))\n",
    "    if(choice==5):\n",
    "        break\n",
    "    a=int(input('Enter first number:'))\n",
    "    b=int(input('Enter second number:'))\n",
    "    \n",
    "    if(choice==1):\n",
    "        print('Addition of {} and {}:{}'.format(a,b,add(a,b)))\n",
    "    elif(choice==2):\n",
    "        print('Subtraction of {} and {}:{}'.format(a,b,sub(a,b)))\n",
    "    elif(choice==3):\n",
    "        print('Multiplication of {} and {}:{}'.format(a,b,mul(a,b)))\n",
    "    elif(choice==4):\n",
    "        print('Division of {} and {}:{}'.format(a,b,div(a,b)))\n",
    "    "
   ]
  },
  {
   "cell_type": "code",
   "execution_count": null,
   "id": "c2abd855",
   "metadata": {},
   "outputs": [],
   "source": []
  },
  {
   "cell_type": "code",
   "execution_count": null,
   "id": "2564b10f",
   "metadata": {},
   "outputs": [],
   "source": []
  }
 ],
 "metadata": {
  "kernelspec": {
   "display_name": "Python 3 (ipykernel)",
   "language": "python",
   "name": "python3"
  },
  "language_info": {
   "codemirror_mode": {
    "name": "ipython",
    "version": 3
   },
   "file_extension": ".py",
   "mimetype": "text/x-python",
   "name": "python",
   "nbconvert_exporter": "python",
   "pygments_lexer": "ipython3",
   "version": "3.9.13"
  }
 },
 "nbformat": 4,
 "nbformat_minor": 5
}
