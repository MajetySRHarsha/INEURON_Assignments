{
 "cells": [
  {
   "cell_type": "code",
   "execution_count": null,
   "id": "f524784d",
   "metadata": {},
   "outputs": [],
   "source": [
    "'''1. What are escape characters, and how do you use them?\n",
    "Ans.To insert characters that are illegal in a string, use an escape character. An escape character is a \n",
    "backslash \\ followed by the character you want to insert.'''"
   ]
  },
  {
   "cell_type": "code",
   "execution_count": null,
   "id": "57ea0d11",
   "metadata": {},
   "outputs": [],
   "source": [
    "'''2. What do the escape characters n and t stand for?\n",
    "Ans.\n",
    "\\n is known as new line character. While using this in print(\"\\n\") it gives a line break.\n",
    "The output marker goes to next line.\n",
    "\\t while using in print statement gives a tab space between the words or characters.\n",
    "'''"
   ]
  },
  {
   "cell_type": "code",
   "execution_count": null,
   "id": "ae35c151",
   "metadata": {},
   "outputs": [],
   "source": [
    "'''3. What is the way to include backslash characters in a string?\n",
    "Ans. If you want to include a backslash character itself, you need two backslashes \\\\\n",
    "'''"
   ]
  },
  {
   "cell_type": "code",
   "execution_count": null,
   "id": "4bb14270",
   "metadata": {},
   "outputs": [],
   "source": [
    "'''4. The string \"Howl's Moving Castle\" is a correct value. Why isn't the single quote character in the\n",
    "word Howl's not escaped a problem?\n",
    "Ans.The single quote in Howl's is fine because we've used double quotes to mark the beginning and end of\n",
    "the string.\n",
    "'''"
   ]
  },
  {
   "cell_type": "code",
   "execution_count": null,
   "id": "2e0049f8",
   "metadata": {},
   "outputs": [],
   "source": [
    "'''5. How do you write a string of newlines if you don't want to use the n character?\n",
    "Ans. When you print multiple statements in Python, by default they print across multiple lines.'''"
   ]
  },
  {
   "cell_type": "code",
   "execution_count": 1,
   "id": "770eedf2",
   "metadata": {},
   "outputs": [
    {
     "data": {
      "text/plain": [
       "['e', 'Hello', 'Hello', 'lo, world!']"
      ]
     },
     "execution_count": 1,
     "metadata": {},
     "output_type": "execute_result"
    }
   ],
   "source": [
    "'''6. What are the values of the given expressions?\n",
    "'Hello, world!'[1]\n",
    "'Hello, world!'[0:5]\n",
    "'Hello, world!'[:5]\n",
    "'Hello, world!'[3:]\n",
    "'''\n",
    "'''Ans:'''\n",
    "p=['Hello, world!'[1],'Hello, world!'[0:5],'Hello, world!'[:5],'Hello, world!'[3:]]\n",
    "p"
   ]
  },
  {
   "cell_type": "code",
   "execution_count": 2,
   "id": "c695b3c5",
   "metadata": {},
   "outputs": [
    {
     "data": {
      "text/plain": [
       "['HELLO', True, 'hello']"
      ]
     },
     "execution_count": 2,
     "metadata": {},
     "output_type": "execute_result"
    }
   ],
   "source": [
    "'''7. What are the values of the following expressions?\n",
    "'Hello'.upper()\n",
    "'Hello'.upper().isupper()\n",
    "'Hello'.upper().lower()\n",
    "'''\n",
    "p=['Hello'.upper(),'Hello'.upper().isupper(),'Hello'.upper().lower()]\n",
    "p"
   ]
  },
  {
   "cell_type": "code",
   "execution_count": 3,
   "id": "234e5af1",
   "metadata": {},
   "outputs": [
    {
     "name": "stdout",
     "output_type": "stream",
     "text": [
      "['Remember,', 'remember,', 'the', 'fifth', 'of', 'July.'] There-can-only-one.\n"
     ]
    }
   ],
   "source": [
    "'''8. What are the values of the following expressions?\n",
    "'Remember, remember, the fifth of July.'.split()\n",
    "'-'.join('There can only one.'.split())\n",
    "'''\n",
    "p='Remember, remember, the fifth of July.'.split()\n",
    "q='-'.join('There can only one.'.split())\n",
    "print(p,q)"
   ]
  },
  {
   "cell_type": "code",
   "execution_count": null,
   "id": "3bb05496",
   "metadata": {},
   "outputs": [],
   "source": [
    "'''9. What are the methods for right-justifying, left-justifying, and centering a string?\n",
    "Ans: ljust(),rjust(),center()'''"
   ]
  },
  {
   "cell_type": "code",
   "execution_count": null,
   "id": "f37d440c",
   "metadata": {},
   "outputs": [],
   "source": [
    "'''10. What is the best way to remove whitespace characters from the start or end?\n",
    "Ans: strip() method removes the white space characters from the start or end'''"
   ]
  }
 ],
 "metadata": {
  "kernelspec": {
   "display_name": "Python 3 (ipykernel)",
   "language": "python",
   "name": "python3"
  },
  "language_info": {
   "codemirror_mode": {
    "name": "ipython",
    "version": 3
   },
   "file_extension": ".py",
   "mimetype": "text/x-python",
   "name": "python",
   "nbconvert_exporter": "python",
   "pygments_lexer": "ipython3",
   "version": "3.9.13"
  }
 },
 "nbformat": 4,
 "nbformat_minor": 5
}
