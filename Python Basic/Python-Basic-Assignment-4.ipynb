{
 "cells": [
  {
   "cell_type": "markdown",
   "id": "53214183",
   "metadata": {},
   "source": [
    "1. What exactly is [ ]?\n",
    "Ans. [ ]- Simply it represents an empty list\n",
    "There are many ways to create a list some of them are\n",
    "a=list()\n",
    "a=[ ]"
   ]
  },
  {
   "cell_type": "code",
   "execution_count": 2,
   "id": "e2e08848",
   "metadata": {},
   "outputs": [
    {
     "data": {
      "text/plain": [
       "[2, 4, 'hello', 6, 8, 10]"
      ]
     },
     "execution_count": 2,
     "metadata": {},
     "output_type": "execute_result"
    }
   ],
   "source": [
    "#2. In a list of values stored in a variable called spam, how would you assign the value \n",
    "#'hello' as the third value? (Assume [2, 4, 6, 8, 10] are in spam.)\n",
    "spam=[2,4,6,8,10]\n",
    "spam.insert(2,'hello')\n",
    "spam"
   ]
  },
  {
   "cell_type": "markdown",
   "id": "e70edca3",
   "metadata": {},
   "source": [
    "Let's pretend the spam includes the list ['a', 'b', 'c', 'd'] for the next three queries."
   ]
  },
  {
   "cell_type": "code",
   "execution_count": 3,
   "id": "b57393c2",
   "metadata": {},
   "outputs": [
    {
     "data": {
      "text/plain": [
       "[2, 4, 'hello', 6, 8, 10, 'a', 'b', 'c', 'd']"
      ]
     },
     "execution_count": 3,
     "metadata": {},
     "output_type": "execute_result"
    }
   ],
   "source": [
    "a=['a','b','c','d']\n",
    "spam.extend(a)\n",
    "spam"
   ]
  },
  {
   "cell_type": "code",
   "execution_count": 4,
   "id": "105ecd85",
   "metadata": {},
   "outputs": [
    {
     "data": {
      "text/plain": [
       "6"
      ]
     },
     "execution_count": 4,
     "metadata": {},
     "output_type": "execute_result"
    }
   ],
   "source": [
    "'''3. What is the value of spam[int(int('3' * 2) / 11)]?'''\n",
    "spam[int(int('3' * 2) / 11)]\n",
    "#This is by performing the indexing operation in the list"
   ]
  },
  {
   "cell_type": "code",
   "execution_count": 5,
   "id": "b423c9a5",
   "metadata": {},
   "outputs": [
    {
     "data": {
      "text/plain": [
       "'d'"
      ]
     },
     "execution_count": 5,
     "metadata": {},
     "output_type": "execute_result"
    }
   ],
   "source": [
    "'''4. What is the value of spam[-1]?'''\n",
    "spam[-1]# This is the negitive indexing of the list"
   ]
  },
  {
   "cell_type": "code",
   "execution_count": 6,
   "id": "cea0d1d5",
   "metadata": {},
   "outputs": [
    {
     "data": {
      "text/plain": [
       "[2, 4]"
      ]
     },
     "execution_count": 6,
     "metadata": {},
     "output_type": "execute_result"
    }
   ],
   "source": [
    "'''5. What is the value of spam[:2]?'''\n",
    "spam[:2]#This returns the list of elements from the starting position to the 2nd element in the list"
   ]
  },
  {
   "cell_type": "markdown",
   "id": "fac1c436",
   "metadata": {},
   "source": [
    "Let's pretend bacon has the list [3.14, 'cat,' 11, 'cat,' True] for the next three questions."
   ]
  },
  {
   "cell_type": "code",
   "execution_count": 6,
   "id": "345609ab",
   "metadata": {},
   "outputs": [],
   "source": [
    "bacon=[3.14, 'cat' ,11, 'cat', True]"
   ]
  },
  {
   "cell_type": "code",
   "execution_count": 7,
   "id": "3748e087",
   "metadata": {},
   "outputs": [
    {
     "data": {
      "text/plain": [
       "1"
      ]
     },
     "execution_count": 7,
     "metadata": {},
     "output_type": "execute_result"
    }
   ],
   "source": [
    "'''6. What is the value of bacon.index('cat')?'''\n",
    "bacon.index('cat') # This returns the index value of the cat containing in the list"
   ]
  },
  {
   "cell_type": "code",
   "execution_count": 8,
   "id": "9d99f55a",
   "metadata": {},
   "outputs": [
    {
     "data": {
      "text/plain": [
       "[3.14, 'cat', 11, 'cat', True, 99]"
      ]
     },
     "execution_count": 8,
     "metadata": {},
     "output_type": "execute_result"
    }
   ],
   "source": [
    "'''7. How does bacon.append(99) change the look of the list value in bacon?'''\n",
    "bacon.append(99) #Appends the 99 to the end of the list\n",
    "bacon"
   ]
  },
  {
   "cell_type": "markdown",
   "id": "66e8c458",
   "metadata": {},
   "source": [
    "'''9. What are the list concatenation and list replication operators?'''\n",
    "The operator for list concatenation is +, while the operator for replication is *. \n",
    "(This is the same as for strings.)"
   ]
  },
  {
   "cell_type": "markdown",
   "id": "ddb52c26",
   "metadata": {},
   "source": [
    "10. What is difference between the list methods append() and insert()?\n",
    "While append() will add values only to the end of a list, insert() can add them anywhere in the list."
   ]
  },
  {
   "cell_type": "markdown",
   "id": "76aaef8f",
   "metadata": {},
   "source": [
    "11. What are the two methods for removing items from a list?\n",
    "remove()-It helps to remove the very first given element matching from the list.\n",
    "pop()-The pop() method removes an element from the list based on the index given."
   ]
  },
  {
   "cell_type": "markdown",
   "id": "fb348451",
   "metadata": {},
   "source": [
    "12. Describe how list values and string values are identical.\n",
    "The similarity between Lists and Strings in Python is that both are sequences. The differences between \n",
    "them are that firstly, Lists are mutable but Strings are immutable. Secondly, elements of a list can be \n",
    "of different types whereas a String only contains characters that are all of String type."
   ]
  },
  {
   "cell_type": "markdown",
   "id": "adececad",
   "metadata": {},
   "source": [
    "13. What's the difference between tuples and lists?\n",
    "The primary difference between tuples and lists is that tuples are immutable as opposed to lists which \n",
    "are mutable. Therefore, it is possible to change a list but not a tuple. The contents of a tuple cannot \n",
    "change once they have been created in Python due to the immutability of tuples."
   ]
  },
  {
   "cell_type": "markdown",
   "id": "2d061268",
   "metadata": {},
   "source": [
    "14. How do you type a tuple value that only contains the integer 42?\n",
    "Ans. a=(42)"
   ]
  },
  {
   "cell_type": "markdown",
   "id": "38c540f5",
   "metadata": {},
   "source": [
    "15. How do you get a list value's tuple form? How do you get a tuple value's list form?\n",
    "Ans.Using the list() and tuple() methods."
   ]
  },
  {
   "cell_type": "markdown",
   "id": "ae3e1e57",
   "metadata": {},
   "source": [
    "16. Variables that \"contain\" list values are not necessarily lists themselves.\n",
    "Instead, what do they contain?\n",
    "Ans. Variables will contain references to list values rather than list values themselves.\n",
    "But for strings and integer values, variables simply contain the string or integer value."
   ]
  },
  {
   "cell_type": "markdown",
   "id": "f43122f4",
   "metadata": {},
   "source": [
    "17. How do you distinguish between copy.copy() and copy.deepcopy()?\n",
    "In Shallow copy, a copy of the original object is stored and only the reference address is finally \n",
    "copied. In Deep copy, the copy of the original object and the repetitive copies both are stored."
   ]
  }
 ],
 "metadata": {
  "kernelspec": {
   "display_name": "Python 3 (ipykernel)",
   "language": "python",
   "name": "python3"
  },
  "language_info": {
   "codemirror_mode": {
    "name": "ipython",
    "version": 3
   },
   "file_extension": ".py",
   "mimetype": "text/x-python",
   "name": "python",
   "nbconvert_exporter": "python",
   "pygments_lexer": "ipython3",
   "version": "3.9.13"
  }
 },
 "nbformat": 4,
 "nbformat_minor": 5
}
