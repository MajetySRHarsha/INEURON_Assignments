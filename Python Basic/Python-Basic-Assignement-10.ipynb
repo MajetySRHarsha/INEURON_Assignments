{
 "cells": [
  {
   "cell_type": "markdown",
   "id": "732e117e",
   "metadata": {},
   "source": [
    "1. How do you distinguish between shutil.copy() and shutil.copytree()?\n",
    "Ans:\n",
    "shutil.copy() and shutil.copytree() are both Python functions in the shutil module that can be used to copy files and directories.\n",
    "\n",
    "shutil.copy() is used to copy a single file from a source location to a destination location. It takes two arguments: the path of the source file to be copied, and the path of the destination where the file should be copied. If the destination file already exists, it will be overwritten by the source file.\n",
    "\n",
    "shutil.copytree() is used to copy an entire directory and its contents from a source location to a destination location. It takes two arguments: the path of the source directory to be copied, and the path of the destination where the directory should be copied. If the destination directory already exists, an error will be raised.\n",
    "\n",
    "In summary, shutil.copy() copies a single file while shutil.copytree() copies a directory and its contents."
   ]
  },
  {
   "cell_type": "markdown",
   "id": "6e6b8a0b",
   "metadata": {},
   "source": [
    "2. What function is used to rename files?? \n",
    "Ans: In Python, you can use the os.rename() function to rename files. This function takes two arguments: the current name of the file and the new name you want to give it. "
   ]
  },
  {
   "cell_type": "markdown",
   "id": "e245713b",
   "metadata": {},
   "source": [
    "3. What is the difference between the delete functions in the send2trash and shutil modules?\n",
    "ANS:\n",
    "The send2trash and shutil modules both provide functions for deleting files and directories in Python, but they differ in their behavior and purpose.\n",
    "\n",
    "The send2trash module provides a send2trash() function that sends a file or directory to the system trash or recycle bin instead of permanently deleting it. This is useful when you want to delete files or directories but still want to be able to recover them later if necessary. The send2trash() function works on both files and directories and supports Unicode filenames on all platforms."
   ]
  },
  {
   "cell_type": "markdown",
   "id": "0513e96c",
   "metadata": {},
   "source": [
    "4.ZipFile objects have a close() method just like File objects’ close() method. What ZipFile method is equivalent to File objects’ open() method?\n",
    "Ans: \n",
    "The ZipFile.open() method allows you to open a file contained within a ZIP archive and return a file-like object that you can use to read or write data to the file. It takes a single argument, the name or path of the file within the ZIP archive that you want to open."
   ]
  },
  {
   "cell_type": "markdown",
   "id": "d1d3d6b2",
   "metadata": {},
   "source": [
    "5.Create a programme that searches a folder tree for files with a certain file extension (such as .pdf or .jpg). Copy these files from whatever location they are in to a new folder.\n"
   ]
  },
  {
   "cell_type": "code",
   "execution_count": 1,
   "id": "ccc88606",
   "metadata": {},
   "outputs": [
    {
     "name": "stdout",
     "output_type": "stream",
     "text": [
      "Copied D:/BTech2k24/3-2/Compiler Design\\CD NOTES (1).pdf to D:/BTech2k24/3-2/New folder\\CD NOTES (1).pdf\n",
      "Copied D:/BTech2k24/3-2/Compiler Design\\CD-MID-1,3.pdf to D:/BTech2k24/3-2/New folder\\CD-MID-1,3.pdf\n",
      "Copied D:/BTech2k24/3-2/Compiler Design\\CD_Unit 1.pdf to D:/BTech2k24/3-2/New folder\\CD_Unit 1.pdf\n",
      "Copied D:/BTech2k24/3-2/Compiler Design\\CD_Unit 2&3.pdf to D:/BTech2k24/3-2/New folder\\CD_Unit 2&3.pdf\n",
      "Copied D:/BTech2k24/3-2/Compiler Design\\R19\\Code Generator.pdf to D:/BTech2k24/3-2/New folder\\Code Generator.pdf\n",
      "Copied D:/BTech2k24/3-2/Compiler Design\\R19\\code opt.pdf to D:/BTech2k24/3-2/New folder\\code opt.pdf\n",
      "Copied D:/BTech2k24/3-2/Compiler Design\\R19\\Code Optimizer.pdf to D:/BTech2k24/3-2/New folder\\Code Optimizer.pdf\n",
      "Copied D:/BTech2k24/3-2/Compiler Design\\R19\\Compiler Design - Material.pdf to D:/BTech2k24/3-2/New folder\\Compiler Design - Material.pdf\n",
      "Copied D:/BTech2k24/3-2/Compiler Design\\R19\\Compiler_Design_MID-2_imp_Questions.pdf to D:/BTech2k24/3-2/New folder\\Compiler_Design_MID-2_imp_Questions.pdf\n",
      "Copied D:/BTech2k24/3-2/Compiler Design\\R19\\Intermediate code generator.pdf to D:/BTech2k24/3-2/New folder\\Intermediate code generator.pdf\n",
      "Copied D:/BTech2k24/3-2/Compiler Design\\R19\\Lecture Notes.pdf to D:/BTech2k24/3-2/New folder\\Lecture Notes.pdf\n",
      "Copied D:/BTech2k24/3-2/Compiler Design\\R19\\run time env.pdf to D:/BTech2k24/3-2/New folder\\run time env.pdf\n",
      "Copied D:/BTech2k24/3-2/Compiler Design\\R19\\Scanned_20220604-1955.pdf to D:/BTech2k24/3-2/New folder\\Scanned_20220604-1955.pdf\n",
      "Copied D:/BTech2k24/3-2/Compiler Design\\R19\\sdt schemas.pdf to D:/BTech2k24/3-2/New folder\\sdt schemas.pdf\n",
      "Copied D:/BTech2k24/3-2/Compiler Design\\R19\\sdt.pdf to D:/BTech2k24/3-2/New folder\\sdt.pdf\n",
      "Copied D:/BTech2k24/3-2/Compiler Design\\R19\\tepe checking.pdf to D:/BTech2k24/3-2/New folder\\tepe checking.pdf\n"
     ]
    }
   ],
   "source": [
    "import os\n",
    "import shutil\n",
    "\n",
    "# set the source and destination directories\n",
    "source_dir = \"D:/BTech2k24/3-2/Compiler Design\"\n",
    "dest_dir = \"D:/BTech2k24/3-2/New folder\"\n",
    "\n",
    "# set the file extension to search for\n",
    "file_ext = \".pdf\"\n",
    "\n",
    "# iterate over the files in the source directory tree\n",
    "for root, dirs, files in os.walk(source_dir):\n",
    "    for file in files:\n",
    "        # check if the file has the desired extension\n",
    "        if file.endswith(file_ext):\n",
    "            # construct the full path of the source and destination files\n",
    "            src_path = os.path.join(root, file)\n",
    "            dest_path = os.path.join(dest_dir, file)\n",
    "            # copy the file to the destination directory\n",
    "            shutil.copy2(src_path, dest_path)\n",
    "            print(f\"Copied {src_path} to {dest_path}\")\n"
   ]
  },
  {
   "cell_type": "code",
   "execution_count": null,
   "id": "210d4508",
   "metadata": {},
   "outputs": [],
   "source": []
  }
 ],
 "metadata": {
  "kernelspec": {
   "display_name": "Python 3 (ipykernel)",
   "language": "python",
   "name": "python3"
  },
  "language_info": {
   "codemirror_mode": {
    "name": "ipython",
    "version": 3
   },
   "file_extension": ".py",
   "mimetype": "text/x-python",
   "name": "python",
   "nbconvert_exporter": "python",
   "pygments_lexer": "ipython3",
   "version": "3.9.13"
  }
 },
 "nbformat": 4,
 "nbformat_minor": 5
}
