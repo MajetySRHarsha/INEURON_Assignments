{
 "cells": [
  {
   "cell_type": "markdown",
   "id": "0cd1c68f",
   "metadata": {},
   "source": [
    "1. To what does a relative path refer?\n",
    "A relative path is a way to specify the location of a directory relative to another directory"
   ]
  },
  {
   "cell_type": "markdown",
   "id": "58c8931a",
   "metadata": {},
   "source": [
    "2.What does an absolute path start with your operating system?\n",
    "An absolute path is also known as the full path and starts with / in Linux and macOS and C:/ on Windows."
   ]
  },
  {
   "cell_type": "markdown",
   "id": "fbba20fc",
   "metadata": {},
   "source": [
    "3.What do the functions os.getcwd() and os.chdir() do?\n",
    "os.getcwd()-> Gives the present working directory\n",
    "os.chdir()->Chnages the present working directory to another directory"
   ]
  },
  {
   "cell_type": "markdown",
   "id": "ddf98d8b",
   "metadata": {},
   "source": [
    "4.What are the . and .. folders?\n",
    " Ans: . refers to your current directory, .. refers to directory above it, aka parent directory"
   ]
  },
  {
   "cell_type": "markdown",
   "id": "09494013",
   "metadata": {},
   "source": [
    "5.In C:\\bacon\\eggs\\spam.txt, which part is the dir name, and which part is the base name?\n",
    "Ans: C:\\bacon\\eggs is the dir name, while spam. txt is the base name."
   ]
  },
  {
   "cell_type": "markdown",
   "id": "74e50e95",
   "metadata": {},
   "source": [
    "6.What are the three “mode” arguments that can be passed to the open() function?\n",
    "Ans:\n",
    "'r'->Specifies the file opened in the read mode strictly for reading\n",
    "'w'->Specifies the file opened in write mode\n",
    "'a'->Specifies the file opened in append mode"
   ]
  },
  {
   "cell_type": "markdown",
   "id": "1773d08d",
   "metadata": {},
   "source": [
    "7.What happens if an existing file is opened in write mode?\n",
    "Ans:File that existing filename pointed to is basically wiped out. "
   ]
  },
  {
   "cell_type": "markdown",
   "id": "176a3ad9",
   "metadata": {},
   "source": [
    "8. How do you tell the difference between read() and readlines()?\n",
    "read()->reads entire file in a single strech\n",
    "readlines() method will return all the lines in a file in the format of a list where each element is a line in the file.\n",
    "\n"
   ]
  },
  {
   "cell_type": "markdown",
   "id": "150622aa",
   "metadata": {},
   "source": [
    "9. What data structure does a shelf value resemble?\n",
    "Ans: A shelf value resembles a dictionary value; it has keys and values, along with keys() and values() methods that work similarly to the dictionary methods of the same names."
   ]
  }
 ],
 "metadata": {
  "kernelspec": {
   "display_name": "Python 3 (ipykernel)",
   "language": "python",
   "name": "python3"
  },
  "language_info": {
   "codemirror_mode": {
    "name": "ipython",
    "version": 3
   },
   "file_extension": ".py",
   "mimetype": "text/x-python",
   "name": "python",
   "nbconvert_exporter": "python",
   "pygments_lexer": "ipython3",
   "version": "3.9.13"
  }
 },
 "nbformat": 4,
 "nbformat_minor": 5
}
