{
 "cells": [
  {
   "cell_type": "code",
   "execution_count": 5,
   "id": "0bede9c5",
   "metadata": {},
   "outputs": [
    {
     "name": "stdout",
     "output_type": "stream",
     "text": [
      "Enter the number:10\n",
      "Fibanocii number:55\n"
     ]
    }
   ],
   "source": [
    "#1.\tWrite a Python Program to Display Fibonacci Sequence Using Recursion?\n",
    "def fibanocii(n):\n",
    "    if n<=1:\n",
    "        return n\n",
    "    else:\n",
    "        return fibanocii(n-1)+fibanocii(n-2)\n",
    "a=fibanocii(int(input('Enter the number:')))\n",
    "print('Fibanocii number:{}'.format(a))"
   ]
  },
  {
   "cell_type": "code",
   "execution_count": 7,
   "id": "ec310862",
   "metadata": {},
   "outputs": [
    {
     "name": "stdout",
     "output_type": "stream",
     "text": [
      "Enter the number:10\n",
      "Factorial number:3628800\n"
     ]
    }
   ],
   "source": [
    "#2.\tWrite a Python Program to Find Factorial of Number Using Recursion?\n",
    "def factorial(n):\n",
    "    if n==0:\n",
    "        return 1\n",
    "    return n*factorial(n-1)\n",
    "a=factorial(int(input('Enter the number:')))\n",
    "print('Factorial number:{}'.format(a))"
   ]
  },
  {
   "cell_type": "code",
   "execution_count": 13,
   "id": "9d3daf3a",
   "metadata": {},
   "outputs": [
    {
     "name": "stdout",
     "output_type": "stream",
     "text": [
      "Enter weight in kg:60\n",
      "Enter height in m:1.52\n",
      "BMI of height:60 and weight:1.52 is 25.97\n"
     ]
    }
   ],
   "source": [
    "#3.\tWrite a Python Program to calculate your Body Mass Index?\n",
    "weight=int(input('Enter weight in kg:'))\n",
    "height=float(input('Enter height in m:'))\n",
    "print('BMI of height:{} and weight:{} is {}'.format(weight,height,round(weight/(height**2),2)))"
   ]
  },
  {
   "cell_type": "code",
   "execution_count": 18,
   "id": "e5e164ef",
   "metadata": {},
   "outputs": [
    {
     "name": "stdout",
     "output_type": "stream",
     "text": [
      "Enter any number:10\n",
      "Natural logarithm of 10:2.303\n"
     ]
    }
   ],
   "source": [
    "#4.\tWrite a Python Program to calculate the natural logarithm of any number?\n",
    "import math\n",
    "num=int(input('Enter any number:'))\n",
    "print('Natural logarithm of {}:{}'.format(num,round(math.log(num),3)))"
   ]
  },
  {
   "cell_type": "code",
   "execution_count": 20,
   "id": "5d3dd330",
   "metadata": {},
   "outputs": [
    {
     "name": "stdout",
     "output_type": "stream",
     "text": [
      "Enter number:3\n",
      "Cube sum of 3 natural numbers is 36.0\n"
     ]
    }
   ],
   "source": [
    "#5.\tWrite a Python Program for cube sum of first n natural numbers?\n",
    "num=int(input('Enter number:'))\n",
    "p=((num**2)*((num+1)**2))/4\n",
    "print('Cube sum of {} natural numbers is {}'.format(num,p))"
   ]
  },
  {
   "cell_type": "code",
   "execution_count": null,
   "id": "93174d88",
   "metadata": {},
   "outputs": [],
   "source": []
  }
 ],
 "metadata": {
  "kernelspec": {
   "display_name": "Python 3 (ipykernel)",
   "language": "python",
   "name": "python3"
  },
  "language_info": {
   "codemirror_mode": {
    "name": "ipython",
    "version": 3
   },
   "file_extension": ".py",
   "mimetype": "text/x-python",
   "name": "python",
   "nbconvert_exporter": "python",
   "pygments_lexer": "ipython3",
   "version": "3.9.13"
  }
 },
 "nbformat": 4,
 "nbformat_minor": 5
}
