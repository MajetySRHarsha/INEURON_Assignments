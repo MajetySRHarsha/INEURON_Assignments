{
 "cells": [
  {
   "cell_type": "code",
   "execution_count": 1,
   "id": "7546b61c",
   "metadata": {},
   "outputs": [
    {
     "name": "stdout",
     "output_type": "stream",
     "text": [
      "Hello Python\n"
     ]
    }
   ],
   "source": [
    "#1.\tWrite a Python program to print \"Hello Python\"?\n",
    "print(\"Hello Python\")"
   ]
  },
  {
   "cell_type": "code",
   "execution_count": 4,
   "id": "27f342ba",
   "metadata": {},
   "outputs": [
    {
     "name": "stdout",
     "output_type": "stream",
     "text": [
      "Enter first number:10\n",
      "Enter second number:20\n",
      "Addition 30\n",
      "Subtraction -10\n"
     ]
    }
   ],
   "source": [
    "#2.\tWrite a Python program to do arithmetical operations addition and division.?\n",
    "a=int(input(\"Enter first number:\"))\n",
    "b=int(input(\"Enter second number:\"))\n",
    "print(\"Addition\",a+b)\n",
    "print(\"Subtraction\",a-b)"
   ]
  },
  {
   "cell_type": "code",
   "execution_count": 1,
   "id": "bf072a7d",
   "metadata": {},
   "outputs": [
    {
     "name": "stdout",
     "output_type": "stream",
     "text": [
      "Enter the base of triangle:2\n",
      "Enter the height of the triangle:2\n",
      "Area of the triangle: 2.0\n"
     ]
    }
   ],
   "source": [
    "#3.\tWrite a Python program to find the area of a triangle?\n",
    "b=int(input(\"Enter the base of triangle:\"))\n",
    "h=int(input('Enter the height of the triangle:'))\n",
    "print('Area of the triangle:',(0.5*b*h))"
   ]
  },
  {
   "cell_type": "code",
   "execution_count": 2,
   "id": "5afbb335",
   "metadata": {},
   "outputs": [
    {
     "name": "stdout",
     "output_type": "stream",
     "text": [
      "Enter value of a:10\n",
      "Enter value of b:20\n",
      "The value of a: 20\n",
      "The value of b: 10\n"
     ]
    }
   ],
   "source": [
    "#4.\tWrite a Python program to swap two variables?\n",
    "a=int(input('Enter value of a:'))\n",
    "b=int(input('Enter value of b:'))\n",
    "a,b=b,a\n",
    "print('The value of a:',a)\n",
    "print('The value of b:',b)\n"
   ]
  },
  {
   "cell_type": "code",
   "execution_count": 5,
   "id": "ff23c96b",
   "metadata": {},
   "outputs": [
    {
     "name": "stdout",
     "output_type": "stream",
     "text": [
      "17\n"
     ]
    }
   ],
   "source": [
    "#5.\tWrite a Python program to generate a random number?\n",
    "import random as rd\n",
    "print('The random number:',rd.randint(10,20))"
   ]
  },
  {
   "cell_type": "code",
   "execution_count": null,
   "id": "263d8ade",
   "metadata": {},
   "outputs": [],
   "source": []
  }
 ],
 "metadata": {
  "kernelspec": {
   "display_name": "Python 3 (ipykernel)",
   "language": "python",
   "name": "python3"
  },
  "language_info": {
   "codemirror_mode": {
    "name": "ipython",
    "version": 3
   },
   "file_extension": ".py",
   "mimetype": "text/x-python",
   "name": "python",
   "nbconvert_exporter": "python",
   "pygments_lexer": "ipython3",
   "version": "3.9.13"
  }
 },
 "nbformat": 4,
 "nbformat_minor": 5
}
